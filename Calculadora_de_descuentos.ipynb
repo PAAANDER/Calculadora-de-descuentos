{
  "nbformat": 4,
  "nbformat_minor": 0,
  "metadata": {
    "colab": {
      "provenance": [],
      "authorship_tag": "ABX9TyO6vUwLLKRubXf6kjfCi7Th",
      "include_colab_link": true
    },
    "kernelspec": {
      "name": "python3",
      "display_name": "Python 3"
    },
    "language_info": {
      "name": "python"
    }
  },
  "cells": [
    {
      "cell_type": "markdown",
      "metadata": {
        "id": "view-in-github",
        "colab_type": "text"
      },
      "source": [
        "<a href=\"https://colab.research.google.com/github/PAAANDER/Calculadora-de-descuentos/blob/main/Calculadora_de_descuentos.ipynb\" target=\"_parent\"><img src=\"https://colab.research.google.com/assets/colab-badge.svg\" alt=\"Open In Colab\"/></a>"
      ]
    },
    {
      "cell_type": "code",
      "execution_count": 2,
      "metadata": {
        "colab": {
          "base_uri": "https://localhost:8080/"
        },
        "id": "AY2AukFmaNxV",
        "outputId": "64f43212-0751-41e2-b78c-701bfceb96b3"
      },
      "outputs": [
        {
          "output_type": "stream",
          "name": "stdout",
          "text": [
            "Ingrese el precio original del producto: $100\n",
            "Ingrese el porcentaje de descuento (%): 10\n",
            "Ingrese el porcentaje de impuesto sobre las ventas (%): 2\n",
            "El precio final del producto después de aplicar un 10.0% de descuento y un 2.0% de impuesto sobre las ventas es: $91.80\n"
          ]
        }
      ],
      "source": [
        "def obtener_valor_numerico(mensaje):\n",
        "    while True:\n",
        "        try:\n",
        "            return float(input(mensaje))\n",
        "        except ValueError:\n",
        "            print(\"Por favor, ingrese un valor numérico válido.\")\n",
        "\n",
        "def calcular_descuento(precio, porcentaje):\n",
        "    return precio * (porcentaje / 100)\n",
        "\n",
        "def calcular_impuesto(precio, porcentaje):\n",
        "    return precio * (porcentaje / 100)\n",
        "\n",
        "precio_original = obtener_valor_numerico(\"Ingrese el precio original del producto: $\")\n",
        "\n",
        "porcentaje_descuento = obtener_valor_numerico(\"Ingrese el porcentaje de descuento (%): \")\n",
        "\n",
        "porcentaje_impuesto = obtener_valor_numerico(\"Ingrese el porcentaje de impuesto sobre las ventas (%): \")\n",
        "\n",
        "descuento = calcular_descuento(precio_original, porcentaje_descuento)\n",
        "\n",
        "precio_con_descuento = precio_original - descuento\n",
        "\n",
        "impuesto = calcular_impuesto(precio_con_descuento, porcentaje_impuesto)\n",
        "\n",
        "precio_final = precio_con_descuento + impuesto\n",
        "\n",
        "print(f\"El precio final del producto después de aplicar un {porcentaje_descuento}% de descuento \"\n",
        "      f\"y un {porcentaje_impuesto}% de impuesto sobre las ventas es: ${precio_final:.2f}\")"
      ]
    }
  ]
}